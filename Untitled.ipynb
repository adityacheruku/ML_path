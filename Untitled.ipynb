{
 "cells": [
  {
   "cell_type": "code",
   "execution_count": 1,
   "id": "8c269426",
   "metadata": {},
   "outputs": [],
   "source": [
    "def variable_meth(string):\n",
    "    res = ''\n",
    "    inti = 0\n",
    "    i = 1\n",
    "    while(inti!=1):\n",
    "        frame_size = int(input('enter frame size'))\n",
    "        if(len(string)>0):\n",
    "            res += string[inti:frame_size]\n",
    "            string = string[frame_size:]\n",
    "            print('frame',i,'',res)\n",
    "            i += 1\n",
    "            res = ''\n",
    "        else:\n",
    "            break"
   ]
  },
  {
   "cell_type": "code",
   "execution_count": 2,
   "id": "7ca045b5",
   "metadata": {},
   "outputs": [],
   "source": [
    "def fixed_meth(string):\n",
    "    res = ''\n",
    "    inti = 0\n",
    "    frames_size = int(input('frame size'))\n",
    "    req = int(length/frames_size)+1\n",
    "    for frame in range(1,req+1):\n",
    "        res += string[inti:frames_size]\n",
    "        string = string[frames_size:]\n",
    "        print('frame',frame,' ',res)\n",
    "        res = ''"
   ]
  },
  {
   "cell_type": "code",
   "execution_count": 3,
   "id": "0e9ea3bc",
   "metadata": {},
   "outputs": [
    {
     "name": "stdout",
     "output_type": "stream",
     "text": [
      "enter name adityacheruku\n",
      "choose..\n",
      "1.fixed\n",
      "2.variable\n",
      "1\n",
      "frame size3\n",
      "frame 1   adi\n",
      "frame 2   tya\n",
      "frame 3   che\n",
      "frame 4   ruk\n",
      "frame 5   u\n"
     ]
    }
   ],
   "source": [
    "string = input('enter name ')\n",
    "length = len(string)\n",
    "print('choose..\\n1.fixed\\n2.variable')\n",
    "choice = int(input())\n",
    "\n",
    "fixed_meth(string) if choice==1 else variable_meth(string)"
   ]
  },
  {
   "cell_type": "code",
   "execution_count": null,
   "id": "b59fc4f0",
   "metadata": {},
   "outputs": [],
   "source": []
  }
 ],
 "metadata": {
  "kernelspec": {
   "display_name": "Python 3 (ipykernel)",
   "language": "python",
   "name": "python3"
  },
  "language_info": {
   "codemirror_mode": {
    "name": "ipython",
    "version": 3
   },
   "file_extension": ".py",
   "mimetype": "text/x-python",
   "name": "python",
   "nbconvert_exporter": "python",
   "pygments_lexer": "ipython3",
   "version": "3.11.4"
  }
 },
 "nbformat": 4,
 "nbformat_minor": 5
}
